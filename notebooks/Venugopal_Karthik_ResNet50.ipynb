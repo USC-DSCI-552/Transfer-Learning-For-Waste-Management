{
 "cells": [
  {
   "cell_type": "markdown",
   "id": "0bf5ab75",
   "metadata": {},
   "source": [
    "Name: Karthik Venugopal\n",
    "\n",
    "USC ID: 9330529336\n",
    "\n",
    "github username: Karthikvenugopal"
   ]
  },
  {
   "cell_type": "code",
   "execution_count": 1,
   "id": "8c917d9c",
   "metadata": {},
   "outputs": [],
   "source": [
    "import os\n",
    "import numpy as np\n",
    "import pandas as pd\n",
    "import matplotlib.pyplot as plt\n",
    "from sklearn.metrics import classification_report\n",
    "import shutil\n",
    "import random\n",
    "import tensorflow as tf\n",
    "from tensorflow.keras.applications import ResNet50\n",
    "from tensorflow.keras.preprocessing.image import ImageDataGenerator\n",
    "from tensorflow.keras.models import Model\n",
    "from tensorflow.keras.layers import GlobalAveragePooling2D, Dense, Dropout, BatchNormalization\n",
    "from tensorflow.keras.optimizers import Adam\n",
    "from tensorflow.keras.regularizers import l2"
   ]
  },
  {
   "cell_type": "code",
   "execution_count": 2,
   "id": "969aa731",
   "metadata": {},
   "outputs": [],
   "source": [
    "def separating_dataset_train_test(source_dir, dest_dir, train_ratio=0.7, val_ratio=0.15, test_ratio=0.15, seed=42):\n",
    "    assert abs(train_ratio + val_ratio + test_ratio - 1.0) < 1e-5, \"Ratios must sum to 1\"\n",
    "    random.seed(seed)\n",
    "\n",
    "    for class_name in filter(lambda x: os.path.isdir(os.path.join(source_dir, x)), os.listdir(source_dir)):\n",
    "        class_path = os.path.join(source_dir, class_name)\n",
    "        images = [img for img in os.listdir(class_path) if img.lower().endswith(('.jpg', '.jpeg', '.png'))]\n",
    "        random.shuffle(images)\n",
    "\n",
    "        n_total = len(images)\n",
    "        n_train = int(train_ratio * n_total)\n",
    "        n_val = int(val_ratio * n_total)\n",
    "\n",
    "        splits = {\n",
    "            'train': images[:n_train],\n",
    "            'val': images[n_train:n_train + n_val],\n",
    "            'test': images[n_train + n_val:]\n",
    "        }\n",
    "\n",
    "        for split, split_images in splits.items():\n",
    "            split_dir = os.path.join(dest_dir, split, class_name)\n",
    "            os.makedirs(split_dir, exist_ok=True)\n",
    "            for img in split_images:\n",
    "                shutil.copy2(os.path.join(class_path, img), os.path.join(split_dir, img))\n",
    "\n",
    "    print(f\"Dataset split completed and saved to {dest_dir}\")\n"
   ]
  },
  {
   "cell_type": "code",
   "execution_count": 3,
   "id": "1863c040",
   "metadata": {},
   "outputs": [
    {
     "name": "stdout",
     "output_type": "stream",
     "text": [
      "Dataset split completed and saved to SeparatedWaste\n"
     ]
    }
   ],
   "source": [
    "separating_dataset_train_test(source_dir=\"RealWaste\", dest_dir=\"SeparatedWaste\", train_ratio=0.7, val_ratio=0.15, test_ratio=0.15, seed=42)"
   ]
  },
  {
   "cell_type": "code",
   "execution_count": 4,
   "id": "f010ca7a",
   "metadata": {},
   "outputs": [
    {
     "name": "stdout",
     "output_type": "stream",
     "text": [
      "Found 3323 images belonging to 9 classes.\n",
      "Found 710 images belonging to 9 classes.\n",
      "Found 719 images belonging to 9 classes.\n"
     ]
    }
   ],
   "source": [
    "base_dir = \"SeparatedWaste\"\n",
    "sub_dirs = {split: os.path.join(base_dir, split) for split in [\"train\", \"val\", \"test\"]}\n",
    "\n",
    "img_size = (224, 224)\n",
    "batch_size = 5\n",
    "\n",
    "preprocess_gen = ImageDataGenerator(\n",
    "    preprocessing_function=tf.keras.applications.resnet50.preprocess_input,\n",
    "    rotation_range=20,\n",
    "    width_shift_range=0.2,\n",
    "    height_shift_range=0.2,\n",
    "    zoom_range=0.2,\n",
    "    brightness_range=[0.8, 1.2],\n",
    "    horizontal_flip=True\n",
    ")\n",
    "\n",
    "data_gens = {\n",
    "    split: preprocess_gen.flow_from_directory(\n",
    "        sub_dirs[split],\n",
    "        target_size=img_size,\n",
    "        batch_size=batch_size,\n",
    "        class_mode='categorical',\n",
    "        shuffle=(split == \"train\")\n",
    "    )\n",
    "    for split in [\"train\", \"val\", \"test\"]\n",
    "}\n",
    "\n",
    "train_gen = data_gens[\"train\"]\n",
    "val_gen = data_gens[\"val\"]\n",
    "test_gen = data_gens[\"test\"]\n",
    "epochs = 100\n"
   ]
  },
  {
   "cell_type": "code",
   "execution_count": 5,
   "id": "27fa5f9f",
   "metadata": {},
   "outputs": [],
   "source": [
    "img_height, img_width = img_size\n",
    "base_model = ResNet50(\n",
    "    weights='imagenet',\n",
    "    include_top=False,\n",
    "    input_shape=(img_height, img_width, 3)\n",
    ")\n",
    "base_model.trainable = False\n",
    "x = GlobalAveragePooling2D()(base_model.output)\n",
    "x = Dense(256, activation='relu', kernel_regularizer=l2(0.01))(x)\n",
    "x = BatchNormalization()(x)\n",
    "x = Dense(128, activation='relu', kernel_regularizer=l2(0.01))(x)\n",
    "x = BatchNormalization()(x)\n",
    "x = Dropout(0.2)(x)\n",
    "x = Dense(64, activation='relu', kernel_regularizer=l2(0.01))(x)\n",
    "x = BatchNormalization()(x)\n",
    "output = Dense(train_gen.num_classes, activation='softmax')(x)\n",
    "\n",
    "model = Model(inputs=base_model.input, outputs=output)\n",
    "\n",
    "model.compile(\n",
    "    optimizer=Adam(learning_rate=0.001),\n",
    "    loss='categorical_crossentropy',\n",
    "    metrics=['accuracy']\n",
    ")"
   ]
  },
  {
   "cell_type": "code",
   "execution_count": 6,
   "id": "8f0e5174",
   "metadata": {},
   "outputs": [
    {
     "name": "stdout",
     "output_type": "stream",
     "text": [
      "Epoch 1/100\n"
     ]
    },
    {
     "name": "stderr",
     "output_type": "stream",
     "text": [
      "/opt/anaconda3/lib/python3.12/site-packages/keras/src/trainers/data_adapters/py_dataset_adapter.py:121: UserWarning: Your `PyDataset` class should call `super().__init__(**kwargs)` in its constructor. `**kwargs` can include `workers`, `use_multiprocessing`, `max_queue_size`. Do not pass these arguments to `fit()`, as they will be ignored.\n",
      "  self._warn_if_super_not_called()\n"
     ]
    },
    {
     "name": "stdout",
     "output_type": "stream",
     "text": [
      "\u001b[1m665/665\u001b[0m \u001b[32m━━━━━━━━━━━━━━━━━━━━\u001b[0m\u001b[37m\u001b[0m \u001b[1m0s\u001b[0m 145ms/step - accuracy: 0.3798 - loss: 7.8173"
     ]
    },
    {
     "name": "stderr",
     "output_type": "stream",
     "text": [
      "WARNING:absl:You are saving your model as an HDF5 file via `model.save()` or `keras.saving.save_model(model)`. This file format is considered legacy. We recommend using instead the native Keras format, e.g. `model.save('my_model.keras')` or `keras.saving.save_model(model, 'my_model.keras')`. \n"
     ]
    },
    {
     "name": "stdout",
     "output_type": "stream",
     "text": [
      "\u001b[1m665/665\u001b[0m \u001b[32m━━━━━━━━━━━━━━━━━━━━\u001b[0m\u001b[37m\u001b[0m \u001b[1m121s\u001b[0m 180ms/step - accuracy: 0.3800 - loss: 7.8159 - val_accuracy: 0.6014 - val_loss: 5.3412\n",
      "Epoch 2/100\n",
      "\u001b[1m665/665\u001b[0m \u001b[32m━━━━━━━━━━━━━━━━━━━━\u001b[0m\u001b[37m\u001b[0m \u001b[1m0s\u001b[0m 161ms/step - accuracy: 0.5766 - loss: 5.0556"
     ]
    },
    {
     "name": "stderr",
     "output_type": "stream",
     "text": [
      "WARNING:absl:You are saving your model as an HDF5 file via `model.save()` or `keras.saving.save_model(model)`. This file format is considered legacy. We recommend using instead the native Keras format, e.g. `model.save('my_model.keras')` or `keras.saving.save_model(model, 'my_model.keras')`. \n"
     ]
    },
    {
     "name": "stdout",
     "output_type": "stream",
     "text": [
      "\u001b[1m665/665\u001b[0m \u001b[32m━━━━━━━━━━━━━━━━━━━━\u001b[0m\u001b[37m\u001b[0m \u001b[1m131s\u001b[0m 197ms/step - accuracy: 0.5766 - loss: 5.0550 - val_accuracy: 0.6944 - val_loss: 3.6341\n",
      "Epoch 3/100\n",
      "\u001b[1m665/665\u001b[0m \u001b[32m━━━━━━━━━━━━━━━━━━━━\u001b[0m\u001b[37m\u001b[0m \u001b[1m0s\u001b[0m 175ms/step - accuracy: 0.6176 - loss: 3.6278"
     ]
    },
    {
     "name": "stderr",
     "output_type": "stream",
     "text": [
      "WARNING:absl:You are saving your model as an HDF5 file via `model.save()` or `keras.saving.save_model(model)`. This file format is considered legacy. We recommend using instead the native Keras format, e.g. `model.save('my_model.keras')` or `keras.saving.save_model(model, 'my_model.keras')`. \n"
     ]
    },
    {
     "name": "stdout",
     "output_type": "stream",
     "text": [
      "\u001b[1m665/665\u001b[0m \u001b[32m━━━━━━━━━━━━━━━━━━━━\u001b[0m\u001b[37m\u001b[0m \u001b[1m141s\u001b[0m 213ms/step - accuracy: 0.6176 - loss: 3.6276 - val_accuracy: 0.7268 - val_loss: 2.7671\n",
      "Epoch 4/100\n",
      "\u001b[1m665/665\u001b[0m \u001b[32m━━━━━━━━━━━━━━━━━━━━\u001b[0m\u001b[37m\u001b[0m \u001b[1m0s\u001b[0m 184ms/step - accuracy: 0.6231 - loss: 2.8935"
     ]
    },
    {
     "name": "stderr",
     "output_type": "stream",
     "text": [
      "WARNING:absl:You are saving your model as an HDF5 file via `model.save()` or `keras.saving.save_model(model)`. This file format is considered legacy. We recommend using instead the native Keras format, e.g. `model.save('my_model.keras')` or `keras.saving.save_model(model, 'my_model.keras')`. \n"
     ]
    },
    {
     "name": "stdout",
     "output_type": "stream",
     "text": [
      "\u001b[1m665/665\u001b[0m \u001b[32m━━━━━━━━━━━━━━━━━━━━\u001b[0m\u001b[37m\u001b[0m \u001b[1m148s\u001b[0m 222ms/step - accuracy: 0.6231 - loss: 2.8933 - val_accuracy: 0.6958 - val_loss: 2.3563\n",
      "Epoch 5/100\n",
      "\u001b[1m665/665\u001b[0m \u001b[32m━━━━━━━━━━━━━━━━━━━━\u001b[0m\u001b[37m\u001b[0m \u001b[1m143s\u001b[0m 214ms/step - accuracy: 0.6170 - loss: 2.5265 - val_accuracy: 0.5577 - val_loss: 2.6133\n",
      "Epoch 6/100\n",
      "\u001b[1m665/665\u001b[0m \u001b[32m━━━━━━━━━━━━━━━━━━━━\u001b[0m\u001b[37m\u001b[0m \u001b[1m0s\u001b[0m 192ms/step - accuracy: 0.6314 - loss: 2.2485"
     ]
    },
    {
     "name": "stderr",
     "output_type": "stream",
     "text": [
      "WARNING:absl:You are saving your model as an HDF5 file via `model.save()` or `keras.saving.save_model(model)`. This file format is considered legacy. We recommend using instead the native Keras format, e.g. `model.save('my_model.keras')` or `keras.saving.save_model(model, 'my_model.keras')`. \n"
     ]
    },
    {
     "name": "stdout",
     "output_type": "stream",
     "text": [
      "\u001b[1m665/665\u001b[0m \u001b[32m━━━━━━━━━━━━━━━━━━━━\u001b[0m\u001b[37m\u001b[0m \u001b[1m155s\u001b[0m 233ms/step - accuracy: 0.6314 - loss: 2.2484 - val_accuracy: 0.6901 - val_loss: 1.9631\n",
      "Epoch 7/100\n",
      "\u001b[1m665/665\u001b[0m \u001b[32m━━━━━━━━━━━━━━━━━━━━\u001b[0m\u001b[37m\u001b[0m \u001b[1m0s\u001b[0m 186ms/step - accuracy: 0.6361 - loss: 2.0635"
     ]
    },
    {
     "name": "stderr",
     "output_type": "stream",
     "text": [
      "WARNING:absl:You are saving your model as an HDF5 file via `model.save()` or `keras.saving.save_model(model)`. This file format is considered legacy. We recommend using instead the native Keras format, e.g. `model.save('my_model.keras')` or `keras.saving.save_model(model, 'my_model.keras')`. \n"
     ]
    },
    {
     "name": "stdout",
     "output_type": "stream",
     "text": [
      "\u001b[1m665/665\u001b[0m \u001b[32m━━━━━━━━━━━━━━━━━━━━\u001b[0m\u001b[37m\u001b[0m \u001b[1m150s\u001b[0m 225ms/step - accuracy: 0.6361 - loss: 2.0635 - val_accuracy: 0.6789 - val_loss: 1.8693\n",
      "Epoch 8/100\n",
      "\u001b[1m665/665\u001b[0m \u001b[32m━━━━━━━━━━━━━━━━━━━━\u001b[0m\u001b[37m\u001b[0m \u001b[1m152s\u001b[0m 229ms/step - accuracy: 0.6292 - loss: 2.0493 - val_accuracy: 0.4014 - val_loss: 2.9360\n",
      "Epoch 9/100\n",
      "\u001b[1m665/665\u001b[0m \u001b[32m━━━━━━━━━━━━━━━━━━━━\u001b[0m\u001b[37m\u001b[0m \u001b[1m0s\u001b[0m 190ms/step - accuracy: 0.6467 - loss: 1.8495"
     ]
    },
    {
     "name": "stderr",
     "output_type": "stream",
     "text": [
      "WARNING:absl:You are saving your model as an HDF5 file via `model.save()` or `keras.saving.save_model(model)`. This file format is considered legacy. We recommend using instead the native Keras format, e.g. `model.save('my_model.keras')` or `keras.saving.save_model(model, 'my_model.keras')`. \n"
     ]
    },
    {
     "name": "stdout",
     "output_type": "stream",
     "text": [
      "\u001b[1m665/665\u001b[0m \u001b[32m━━━━━━━━━━━━━━━━━━━━\u001b[0m\u001b[37m\u001b[0m \u001b[1m154s\u001b[0m 231ms/step - accuracy: 0.6467 - loss: 1.8494 - val_accuracy: 0.6901 - val_loss: 1.6282\n",
      "Epoch 10/100\n",
      "\u001b[1m665/665\u001b[0m \u001b[32m━━━━━━━━━━━━━━━━━━━━\u001b[0m\u001b[37m\u001b[0m \u001b[1m0s\u001b[0m 190ms/step - accuracy: 0.6497 - loss: 1.7432"
     ]
    },
    {
     "name": "stderr",
     "output_type": "stream",
     "text": [
      "WARNING:absl:You are saving your model as an HDF5 file via `model.save()` or `keras.saving.save_model(model)`. This file format is considered legacy. We recommend using instead the native Keras format, e.g. `model.save('my_model.keras')` or `keras.saving.save_model(model, 'my_model.keras')`. \n"
     ]
    },
    {
     "name": "stdout",
     "output_type": "stream",
     "text": [
      "\u001b[1m665/665\u001b[0m \u001b[32m━━━━━━━━━━━━━━━━━━━━\u001b[0m\u001b[37m\u001b[0m \u001b[1m154s\u001b[0m 231ms/step - accuracy: 0.6497 - loss: 1.7432 - val_accuracy: 0.7268 - val_loss: 1.4438\n",
      "Epoch 11/100\n",
      "\u001b[1m665/665\u001b[0m \u001b[32m━━━━━━━━━━━━━━━━━━━━\u001b[0m\u001b[37m\u001b[0m \u001b[1m155s\u001b[0m 233ms/step - accuracy: 0.6548 - loss: 1.6550 - val_accuracy: 0.6986 - val_loss: 1.4619\n",
      "Epoch 12/100\n",
      "\u001b[1m665/665\u001b[0m \u001b[32m━━━━━━━━━━━━━━━━━━━━\u001b[0m\u001b[37m\u001b[0m \u001b[1m0s\u001b[0m 194ms/step - accuracy: 0.6562 - loss: 1.6330"
     ]
    },
    {
     "name": "stderr",
     "output_type": "stream",
     "text": [
      "WARNING:absl:You are saving your model as an HDF5 file via `model.save()` or `keras.saving.save_model(model)`. This file format is considered legacy. We recommend using instead the native Keras format, e.g. `model.save('my_model.keras')` or `keras.saving.save_model(model, 'my_model.keras')`. \n"
     ]
    },
    {
     "name": "stdout",
     "output_type": "stream",
     "text": [
      "\u001b[1m665/665\u001b[0m \u001b[32m━━━━━━━━━━━━━━━━━━━━\u001b[0m\u001b[37m\u001b[0m \u001b[1m156s\u001b[0m 235ms/step - accuracy: 0.6562 - loss: 1.6330 - val_accuracy: 0.7310 - val_loss: 1.3520\n",
      "Epoch 13/100\n",
      "\u001b[1m665/665\u001b[0m \u001b[32m━━━━━━━━━━━━━━━━━━━━\u001b[0m\u001b[37m\u001b[0m \u001b[1m156s\u001b[0m 235ms/step - accuracy: 0.6626 - loss: 1.5875 - val_accuracy: 0.6479 - val_loss: 1.6217\n",
      "Epoch 14/100\n",
      "\u001b[1m665/665\u001b[0m \u001b[32m━━━━━━━━━━━━━━━━━━━━\u001b[0m\u001b[37m\u001b[0m \u001b[1m158s\u001b[0m 237ms/step - accuracy: 0.6545 - loss: 1.5866 - val_accuracy: 0.6845 - val_loss: 1.4548\n",
      "Epoch 15/100\n",
      "\u001b[1m665/665\u001b[0m \u001b[32m━━━━━━━━━━━━━━━━━━━━\u001b[0m\u001b[37m\u001b[0m \u001b[1m0s\u001b[0m 199ms/step - accuracy: 0.6545 - loss: 1.5670"
     ]
    },
    {
     "name": "stderr",
     "output_type": "stream",
     "text": [
      "WARNING:absl:You are saving your model as an HDF5 file via `model.save()` or `keras.saving.save_model(model)`. This file format is considered legacy. We recommend using instead the native Keras format, e.g. `model.save('my_model.keras')` or `keras.saving.save_model(model, 'my_model.keras')`. \n"
     ]
    },
    {
     "name": "stdout",
     "output_type": "stream",
     "text": [
      "\u001b[1m665/665\u001b[0m \u001b[32m━━━━━━━━━━━━━━━━━━━━\u001b[0m\u001b[37m\u001b[0m \u001b[1m160s\u001b[0m 241ms/step - accuracy: 0.6545 - loss: 1.5670 - val_accuracy: 0.7254 - val_loss: 1.2584\n",
      "Epoch 16/100\n",
      "\u001b[1m665/665\u001b[0m \u001b[32m━━━━━━━━━━━━━━━━━━━━\u001b[0m\u001b[37m\u001b[0m \u001b[1m155s\u001b[0m 234ms/step - accuracy: 0.6416 - loss: 1.5659 - val_accuracy: 0.6085 - val_loss: 1.6853\n",
      "Epoch 17/100\n",
      "\u001b[1m665/665\u001b[0m \u001b[32m━━━━━━━━━━━━━━━━━━━━\u001b[0m\u001b[37m\u001b[0m \u001b[1m155s\u001b[0m 233ms/step - accuracy: 0.6907 - loss: 1.4615 - val_accuracy: 0.7127 - val_loss: 1.3131\n",
      "Epoch 18/100\n",
      "\u001b[1m665/665\u001b[0m \u001b[32m━━━━━━━━━━━━━━━━━━━━\u001b[0m\u001b[37m\u001b[0m \u001b[1m159s\u001b[0m 239ms/step - accuracy: 0.6728 - loss: 1.5064 - val_accuracy: 0.7070 - val_loss: 1.4072\n",
      "Epoch 19/100\n",
      "\u001b[1m665/665\u001b[0m \u001b[32m━━━━━━━━━━━━━━━━━━━━\u001b[0m\u001b[37m\u001b[0m \u001b[1m158s\u001b[0m 237ms/step - accuracy: 0.6543 - loss: 1.5606 - val_accuracy: 0.6451 - val_loss: 1.5574\n",
      "Epoch 20/100\n",
      "\u001b[1m665/665\u001b[0m \u001b[32m━━━━━━━━━━━━━━━━━━━━\u001b[0m\u001b[37m\u001b[0m \u001b[1m0s\u001b[0m 198ms/step - accuracy: 0.6607 - loss: 1.4780"
     ]
    },
    {
     "name": "stderr",
     "output_type": "stream",
     "text": [
      "WARNING:absl:You are saving your model as an HDF5 file via `model.save()` or `keras.saving.save_model(model)`. This file format is considered legacy. We recommend using instead the native Keras format, e.g. `model.save('my_model.keras')` or `keras.saving.save_model(model, 'my_model.keras')`. \n"
     ]
    },
    {
     "name": "stdout",
     "output_type": "stream",
     "text": [
      "\u001b[1m665/665\u001b[0m \u001b[32m━━━━━━━━━━━━━━━━━━━━\u001b[0m\u001b[37m\u001b[0m \u001b[1m160s\u001b[0m 241ms/step - accuracy: 0.6607 - loss: 1.4780 - val_accuracy: 0.7408 - val_loss: 1.2288\n",
      "Epoch 21/100\n",
      "\u001b[1m665/665\u001b[0m \u001b[32m━━━━━━━━━━━━━━━━━━━━\u001b[0m\u001b[37m\u001b[0m \u001b[1m0s\u001b[0m 198ms/step - accuracy: 0.6780 - loss: 1.3945"
     ]
    },
    {
     "name": "stderr",
     "output_type": "stream",
     "text": [
      "WARNING:absl:You are saving your model as an HDF5 file via `model.save()` or `keras.saving.save_model(model)`. This file format is considered legacy. We recommend using instead the native Keras format, e.g. `model.save('my_model.keras')` or `keras.saving.save_model(model, 'my_model.keras')`. \n"
     ]
    },
    {
     "name": "stdout",
     "output_type": "stream",
     "text": [
      "\u001b[1m665/665\u001b[0m \u001b[32m━━━━━━━━━━━━━━━━━━━━\u001b[0m\u001b[37m\u001b[0m \u001b[1m161s\u001b[0m 242ms/step - accuracy: 0.6780 - loss: 1.3946 - val_accuracy: 0.7634 - val_loss: 1.1606\n",
      "Epoch 22/100\n",
      "\u001b[1m665/665\u001b[0m \u001b[32m━━━━━━━━━━━━━━━━━━━━\u001b[0m\u001b[37m\u001b[0m \u001b[1m159s\u001b[0m 239ms/step - accuracy: 0.6838 - loss: 1.3625 - val_accuracy: 0.6408 - val_loss: 1.5784\n",
      "Epoch 23/100\n",
      "\u001b[1m665/665\u001b[0m \u001b[32m━━━━━━━━━━━━━━━━━━━━\u001b[0m\u001b[37m\u001b[0m \u001b[1m157s\u001b[0m 235ms/step - accuracy: 0.6681 - loss: 1.4933 - val_accuracy: 0.7282 - val_loss: 1.2993\n",
      "Epoch 24/100\n",
      "\u001b[1m665/665\u001b[0m \u001b[32m━━━━━━━━━━━━━━━━━━━━\u001b[0m\u001b[37m\u001b[0m \u001b[1m158s\u001b[0m 237ms/step - accuracy: 0.6767 - loss: 1.4433 - val_accuracy: 0.6592 - val_loss: 1.5024\n",
      "Epoch 25/100\n",
      "\u001b[1m665/665\u001b[0m \u001b[32m━━━━━━━━━━━━━━━━━━━━\u001b[0m\u001b[37m\u001b[0m \u001b[1m157s\u001b[0m 237ms/step - accuracy: 0.6935 - loss: 1.3931 - val_accuracy: 0.6746 - val_loss: 1.3649\n",
      "Epoch 26/100\n",
      "\u001b[1m665/665\u001b[0m \u001b[32m━━━━━━━━━━━━━━━━━━━━\u001b[0m\u001b[37m\u001b[0m \u001b[1m0s\u001b[0m 196ms/step - accuracy: 0.6816 - loss: 1.4006"
     ]
    },
    {
     "name": "stderr",
     "output_type": "stream",
     "text": [
      "WARNING:absl:You are saving your model as an HDF5 file via `model.save()` or `keras.saving.save_model(model)`. This file format is considered legacy. We recommend using instead the native Keras format, e.g. `model.save('my_model.keras')` or `keras.saving.save_model(model, 'my_model.keras')`. \n"
     ]
    },
    {
     "name": "stdout",
     "output_type": "stream",
     "text": [
      "\u001b[1m665/665\u001b[0m \u001b[32m━━━━━━━━━━━━━━━━━━━━\u001b[0m\u001b[37m\u001b[0m \u001b[1m159s\u001b[0m 238ms/step - accuracy: 0.6816 - loss: 1.4006 - val_accuracy: 0.7648 - val_loss: 1.1205\n",
      "Epoch 27/100\n",
      "\u001b[1m665/665\u001b[0m \u001b[32m━━━━━━━━━━━━━━━━━━━━\u001b[0m\u001b[37m\u001b[0m \u001b[1m159s\u001b[0m 238ms/step - accuracy: 0.7070 - loss: 1.2868 - val_accuracy: 0.7169 - val_loss: 1.2912\n",
      "Epoch 28/100\n",
      "\u001b[1m665/665\u001b[0m \u001b[32m━━━━━━━━━━━━━━━━━━━━\u001b[0m\u001b[37m\u001b[0m \u001b[1m155s\u001b[0m 233ms/step - accuracy: 0.7186 - loss: 1.2223 - val_accuracy: 0.6746 - val_loss: 1.3942\n",
      "Epoch 29/100\n",
      "\u001b[1m665/665\u001b[0m \u001b[32m━━━━━━━━━━━━━━━━━━━━\u001b[0m\u001b[37m\u001b[0m \u001b[1m0s\u001b[0m 194ms/step - accuracy: 0.7188 - loss: 1.2482"
     ]
    },
    {
     "name": "stderr",
     "output_type": "stream",
     "text": [
      "WARNING:absl:You are saving your model as an HDF5 file via `model.save()` or `keras.saving.save_model(model)`. This file format is considered legacy. We recommend using instead the native Keras format, e.g. `model.save('my_model.keras')` or `keras.saving.save_model(model, 'my_model.keras')`. \n"
     ]
    },
    {
     "name": "stdout",
     "output_type": "stream",
     "text": [
      "\u001b[1m665/665\u001b[0m \u001b[32m━━━━━━━━━━━━━━━━━━━━\u001b[0m\u001b[37m\u001b[0m \u001b[1m156s\u001b[0m 235ms/step - accuracy: 0.7188 - loss: 1.2482 - val_accuracy: 0.7338 - val_loss: 1.1082\n",
      "Epoch 30/100\n",
      "\u001b[1m665/665\u001b[0m \u001b[32m━━━━━━━━━━━━━━━━━━━━\u001b[0m\u001b[37m\u001b[0m \u001b[1m159s\u001b[0m 239ms/step - accuracy: 0.6961 - loss: 1.2542 - val_accuracy: 0.6915 - val_loss: 1.3658\n",
      "Epoch 31/100\n",
      "\u001b[1m665/665\u001b[0m \u001b[32m━━━━━━━━━━━━━━━━━━━━\u001b[0m\u001b[37m\u001b[0m \u001b[1m160s\u001b[0m 241ms/step - accuracy: 0.7092 - loss: 1.2582 - val_accuracy: 0.7183 - val_loss: 1.2616\n",
      "Epoch 32/100\n",
      "\u001b[1m665/665\u001b[0m \u001b[32m━━━━━━━━━━━━━━━━━━━━\u001b[0m\u001b[37m\u001b[0m \u001b[1m164s\u001b[0m 247ms/step - accuracy: 0.7060 - loss: 1.2917 - val_accuracy: 0.7282 - val_loss: 1.2002\n",
      "Epoch 33/100\n",
      "\u001b[1m665/665\u001b[0m \u001b[32m━━━━━━━━━━━━━━━━━━━━\u001b[0m\u001b[37m\u001b[0m \u001b[1m164s\u001b[0m 246ms/step - accuracy: 0.7094 - loss: 1.2765 - val_accuracy: 0.7338 - val_loss: 1.1162\n",
      "Epoch 34/100\n",
      "\u001b[1m665/665\u001b[0m \u001b[32m━━━━━━━━━━━━━━━━━━━━\u001b[0m\u001b[37m\u001b[0m \u001b[1m167s\u001b[0m 250ms/step - accuracy: 0.7137 - loss: 1.2113 - val_accuracy: 0.6493 - val_loss: 1.4544\n",
      "Epoch 35/100\n",
      "\u001b[1m665/665\u001b[0m \u001b[32m━━━━━━━━━━━━━━━━━━━━\u001b[0m\u001b[37m\u001b[0m \u001b[1m0s\u001b[0m 209ms/step - accuracy: 0.6432 - loss: 1.4441"
     ]
    },
    {
     "name": "stderr",
     "output_type": "stream",
     "text": [
      "WARNING:absl:You are saving your model as an HDF5 file via `model.save()` or `keras.saving.save_model(model)`. This file format is considered legacy. We recommend using instead the native Keras format, e.g. `model.save('my_model.keras')` or `keras.saving.save_model(model, 'my_model.keras')`. \n"
     ]
    },
    {
     "name": "stdout",
     "output_type": "stream",
     "text": [
      "\u001b[1m665/665\u001b[0m \u001b[32m━━━━━━━━━━━━━━━━━━━━\u001b[0m\u001b[37m\u001b[0m \u001b[1m168s\u001b[0m 253ms/step - accuracy: 0.6432 - loss: 1.4441 - val_accuracy: 0.7563 - val_loss: 1.1081\n",
      "Epoch 36/100\n",
      "\u001b[1m665/665\u001b[0m \u001b[32m━━━━━━━━━━━━━━━━━━━━\u001b[0m\u001b[37m\u001b[0m \u001b[1m0s\u001b[0m 199ms/step - accuracy: 0.6938 - loss: 1.2648"
     ]
    },
    {
     "name": "stderr",
     "output_type": "stream",
     "text": [
      "WARNING:absl:You are saving your model as an HDF5 file via `model.save()` or `keras.saving.save_model(model)`. This file format is considered legacy. We recommend using instead the native Keras format, e.g. `model.save('my_model.keras')` or `keras.saving.save_model(model, 'my_model.keras')`. \n"
     ]
    },
    {
     "name": "stdout",
     "output_type": "stream",
     "text": [
      "\u001b[1m665/665\u001b[0m \u001b[32m━━━━━━━━━━━━━━━━━━━━\u001b[0m\u001b[37m\u001b[0m \u001b[1m160s\u001b[0m 240ms/step - accuracy: 0.6938 - loss: 1.2648 - val_accuracy: 0.7648 - val_loss: 1.0886\n",
      "Epoch 37/100\n",
      "\u001b[1m665/665\u001b[0m \u001b[32m━━━━━━━━━━━━━━━━━━━━\u001b[0m\u001b[37m\u001b[0m \u001b[1m165s\u001b[0m 248ms/step - accuracy: 0.7140 - loss: 1.2350 - val_accuracy: 0.7493 - val_loss: 1.1025\n",
      "Epoch 38/100\n",
      "\u001b[1m665/665\u001b[0m \u001b[32m━━━━━━━━━━━━━━━━━━━━\u001b[0m\u001b[37m\u001b[0m \u001b[1m166s\u001b[0m 249ms/step - accuracy: 0.6934 - loss: 1.2806 - val_accuracy: 0.7099 - val_loss: 1.2585\n",
      "Epoch 39/100\n",
      "\u001b[1m665/665\u001b[0m \u001b[32m━━━━━━━━━━━━━━━━━━━━\u001b[0m\u001b[37m\u001b[0m \u001b[1m165s\u001b[0m 248ms/step - accuracy: 0.7089 - loss: 1.2523 - val_accuracy: 0.7493 - val_loss: 1.1038\n",
      "Epoch 40/100\n",
      "\u001b[1m665/665\u001b[0m \u001b[32m━━━━━━━━━━━━━━━━━━━━\u001b[0m\u001b[37m\u001b[0m \u001b[1m0s\u001b[0m 207ms/step - accuracy: 0.7125 - loss: 1.2217"
     ]
    },
    {
     "name": "stderr",
     "output_type": "stream",
     "text": [
      "WARNING:absl:You are saving your model as an HDF5 file via `model.save()` or `keras.saving.save_model(model)`. This file format is considered legacy. We recommend using instead the native Keras format, e.g. `model.save('my_model.keras')` or `keras.saving.save_model(model, 'my_model.keras')`. \n"
     ]
    },
    {
     "name": "stdout",
     "output_type": "stream",
     "text": [
      "\u001b[1m665/665\u001b[0m \u001b[32m━━━━━━━━━━━━━━━━━━━━\u001b[0m\u001b[37m\u001b[0m \u001b[1m166s\u001b[0m 250ms/step - accuracy: 0.7125 - loss: 1.2217 - val_accuracy: 0.7634 - val_loss: 0.9991\n",
      "Epoch 41/100\n",
      "\u001b[1m665/665\u001b[0m \u001b[32m━━━━━━━━━━━━━━━━━━━━\u001b[0m\u001b[37m\u001b[0m \u001b[1m165s\u001b[0m 248ms/step - accuracy: 0.7379 - loss: 1.1319 - val_accuracy: 0.6648 - val_loss: 1.3721\n",
      "Epoch 42/100\n",
      "\u001b[1m665/665\u001b[0m \u001b[32m━━━━━━━━━━━━━━━━━━━━\u001b[0m\u001b[37m\u001b[0m \u001b[1m167s\u001b[0m 251ms/step - accuracy: 0.6959 - loss: 1.2487 - val_accuracy: 0.7254 - val_loss: 1.1856\n",
      "Epoch 43/100\n",
      "\u001b[1m665/665\u001b[0m \u001b[32m━━━━━━━━━━━━━━━━━━━━\u001b[0m\u001b[37m\u001b[0m \u001b[1m170s\u001b[0m 256ms/step - accuracy: 0.7086 - loss: 1.2639 - val_accuracy: 0.7775 - val_loss: 1.0254\n",
      "Epoch 44/100\n",
      "\u001b[1m665/665\u001b[0m \u001b[32m━━━━━━━━━━━━━━━━━━━━\u001b[0m\u001b[37m\u001b[0m \u001b[1m169s\u001b[0m 253ms/step - accuracy: 0.7338 - loss: 1.1520 - val_accuracy: 0.7648 - val_loss: 1.0372\n",
      "Epoch 45/100\n",
      "\u001b[1m665/665\u001b[0m \u001b[32m━━━━━━━━━━━━━━━━━━━━\u001b[0m\u001b[37m\u001b[0m \u001b[1m169s\u001b[0m 255ms/step - accuracy: 0.7231 - loss: 1.1600 - val_accuracy: 0.7366 - val_loss: 1.1591\n",
      "Epoch 46/100\n",
      "\u001b[1m665/665\u001b[0m \u001b[32m━━━━━━━━━━━━━━━━━━━━\u001b[0m\u001b[37m\u001b[0m \u001b[1m171s\u001b[0m 257ms/step - accuracy: 0.7054 - loss: 1.2396 - val_accuracy: 0.7394 - val_loss: 1.1480\n",
      "Epoch 47/100\n",
      "\u001b[1m665/665\u001b[0m \u001b[32m━━━━━━━━━━━━━━━━━━━━\u001b[0m\u001b[37m\u001b[0m \u001b[1m170s\u001b[0m 256ms/step - accuracy: 0.7258 - loss: 1.2311 - val_accuracy: 0.7676 - val_loss: 1.0519\n",
      "Epoch 48/100\n",
      "\u001b[1m665/665\u001b[0m \u001b[32m━━━━━━━━━━━━━━━━━━━━\u001b[0m\u001b[37m\u001b[0m \u001b[1m171s\u001b[0m 257ms/step - accuracy: 0.7211 - loss: 1.1854 - val_accuracy: 0.7380 - val_loss: 1.1381\n",
      "Epoch 49/100\n",
      "\u001b[1m665/665\u001b[0m \u001b[32m━━━━━━━━━━━━━━━━━━━━\u001b[0m\u001b[37m\u001b[0m \u001b[1m170s\u001b[0m 256ms/step - accuracy: 0.7336 - loss: 1.1224 - val_accuracy: 0.7746 - val_loss: 1.0096\n",
      "Epoch 50/100\n",
      "\u001b[1m665/665\u001b[0m \u001b[32m━━━━━━━━━━━━━━━━━━━━\u001b[0m\u001b[37m\u001b[0m \u001b[1m170s\u001b[0m 256ms/step - accuracy: 0.7095 - loss: 1.1930 - val_accuracy: 0.7268 - val_loss: 1.1402\n",
      "Epoch 51/100\n",
      "\u001b[1m665/665\u001b[0m \u001b[32m━━━━━━━━━━━━━━━━━━━━\u001b[0m\u001b[37m\u001b[0m \u001b[1m169s\u001b[0m 254ms/step - accuracy: 0.7408 - loss: 1.0793 - val_accuracy: 0.6634 - val_loss: 1.3200\n",
      "Epoch 52/100\n",
      "\u001b[1m665/665\u001b[0m \u001b[32m━━━━━━━━━━━━━━━━━━━━\u001b[0m\u001b[37m\u001b[0m \u001b[1m170s\u001b[0m 255ms/step - accuracy: 0.7222 - loss: 1.1477 - val_accuracy: 0.6380 - val_loss: 1.3465\n",
      "Epoch 53/100\n",
      "\u001b[1m665/665\u001b[0m \u001b[32m━━━━━━━━━━━━━━━━━━━━\u001b[0m\u001b[37m\u001b[0m \u001b[1m165s\u001b[0m 249ms/step - accuracy: 0.7166 - loss: 1.1703 - val_accuracy: 0.7254 - val_loss: 1.1801\n",
      "Epoch 54/100\n",
      "\u001b[1m665/665\u001b[0m \u001b[32m━━━━━━━━━━━━━━━━━━━━\u001b[0m\u001b[37m\u001b[0m \u001b[1m156s\u001b[0m 234ms/step - accuracy: 0.6837 - loss: 1.2978 - val_accuracy: 0.7451 - val_loss: 1.0543\n",
      "Epoch 55/100\n",
      "\u001b[1m665/665\u001b[0m \u001b[32m━━━━━━━━━━━━━━━━━━━━\u001b[0m\u001b[37m\u001b[0m \u001b[1m165s\u001b[0m 248ms/step - accuracy: 0.6940 - loss: 1.2325 - val_accuracy: 0.7549 - val_loss: 1.0164\n",
      "Epoch 56/100\n",
      "\u001b[1m665/665\u001b[0m \u001b[32m━━━━━━━━━━━━━━━━━━━━\u001b[0m\u001b[37m\u001b[0m \u001b[1m166s\u001b[0m 250ms/step - accuracy: 0.7242 - loss: 1.1714 - val_accuracy: 0.6915 - val_loss: 1.1348\n",
      "Epoch 57/100\n",
      "\u001b[1m665/665\u001b[0m \u001b[32m━━━━━━━━━━━━━━━━━━━━\u001b[0m\u001b[37m\u001b[0m \u001b[1m169s\u001b[0m 254ms/step - accuracy: 0.7117 - loss: 1.2075 - val_accuracy: 0.7127 - val_loss: 1.1669\n",
      "Epoch 58/100\n",
      "\u001b[1m665/665\u001b[0m \u001b[32m━━━━━━━━━━━━━━━━━━━━\u001b[0m\u001b[37m\u001b[0m \u001b[1m173s\u001b[0m 260ms/step - accuracy: 0.7302 - loss: 1.1591 - val_accuracy: 0.7592 - val_loss: 1.0405\n",
      "Epoch 59/100\n",
      "\u001b[1m665/665\u001b[0m \u001b[32m━━━━━━━━━━━━━━━━━━━━\u001b[0m\u001b[37m\u001b[0m \u001b[1m0s\u001b[0m 210ms/step - accuracy: 0.7183 - loss: 1.1746"
     ]
    },
    {
     "name": "stderr",
     "output_type": "stream",
     "text": [
      "WARNING:absl:You are saving your model as an HDF5 file via `model.save()` or `keras.saving.save_model(model)`. This file format is considered legacy. We recommend using instead the native Keras format, e.g. `model.save('my_model.keras')` or `keras.saving.save_model(model, 'my_model.keras')`. \n"
     ]
    },
    {
     "name": "stdout",
     "output_type": "stream",
     "text": [
      "\u001b[1m665/665\u001b[0m \u001b[32m━━━━━━━━━━━━━━━━━━━━\u001b[0m\u001b[37m\u001b[0m \u001b[1m169s\u001b[0m 254ms/step - accuracy: 0.7183 - loss: 1.1747 - val_accuracy: 0.7592 - val_loss: 0.9952\n",
      "Epoch 60/100\n",
      "\u001b[1m665/665\u001b[0m \u001b[32m━━━━━━━━━━━━━━━━━━━━\u001b[0m\u001b[37m\u001b[0m \u001b[1m164s\u001b[0m 246ms/step - accuracy: 0.7320 - loss: 1.1328 - val_accuracy: 0.7563 - val_loss: 1.0628\n",
      "Epoch 61/100\n",
      "\u001b[1m665/665\u001b[0m \u001b[32m━━━━━━━━━━━━━━━━━━━━\u001b[0m\u001b[37m\u001b[0m \u001b[1m165s\u001b[0m 249ms/step - accuracy: 0.7248 - loss: 1.1283 - val_accuracy: 0.7690 - val_loss: 1.0248\n",
      "Epoch 62/100\n",
      "\u001b[1m665/665\u001b[0m \u001b[32m━━━━━━━━━━━━━━━━━━━━\u001b[0m\u001b[37m\u001b[0m \u001b[1m167s\u001b[0m 251ms/step - accuracy: 0.7298 - loss: 1.1375 - val_accuracy: 0.7690 - val_loss: 1.0038\n",
      "Epoch 63/100\n",
      "\u001b[1m665/665\u001b[0m \u001b[32m━━━━━━━━━━━━━━━━━━━━\u001b[0m\u001b[37m\u001b[0m \u001b[1m169s\u001b[0m 254ms/step - accuracy: 0.7415 - loss: 1.0824 - val_accuracy: 0.7099 - val_loss: 1.1605\n",
      "Epoch 64/100\n",
      "\u001b[1m665/665\u001b[0m \u001b[32m━━━━━━━━━━━━━━━━━━━━\u001b[0m\u001b[37m\u001b[0m \u001b[1m0s\u001b[0m 212ms/step - accuracy: 0.7354 - loss: 1.1077"
     ]
    },
    {
     "name": "stderr",
     "output_type": "stream",
     "text": [
      "WARNING:absl:You are saving your model as an HDF5 file via `model.save()` or `keras.saving.save_model(model)`. This file format is considered legacy. We recommend using instead the native Keras format, e.g. `model.save('my_model.keras')` or `keras.saving.save_model(model, 'my_model.keras')`. \n"
     ]
    },
    {
     "name": "stdout",
     "output_type": "stream",
     "text": [
      "\u001b[1m665/665\u001b[0m \u001b[32m━━━━━━━━━━━━━━━━━━━━\u001b[0m\u001b[37m\u001b[0m \u001b[1m171s\u001b[0m 257ms/step - accuracy: 0.7354 - loss: 1.1077 - val_accuracy: 0.7704 - val_loss: 0.9827\n",
      "Epoch 65/100\n",
      "\u001b[1m665/665\u001b[0m \u001b[32m━━━━━━━━━━━━━━━━━━━━\u001b[0m\u001b[37m\u001b[0m \u001b[1m0s\u001b[0m 218ms/step - accuracy: 0.7428 - loss: 1.0786"
     ]
    },
    {
     "name": "stderr",
     "output_type": "stream",
     "text": [
      "WARNING:absl:You are saving your model as an HDF5 file via `model.save()` or `keras.saving.save_model(model)`. This file format is considered legacy. We recommend using instead the native Keras format, e.g. `model.save('my_model.keras')` or `keras.saving.save_model(model, 'my_model.keras')`. \n"
     ]
    },
    {
     "name": "stdout",
     "output_type": "stream",
     "text": [
      "\u001b[1m665/665\u001b[0m \u001b[32m━━━━━━━━━━━━━━━━━━━━\u001b[0m\u001b[37m\u001b[0m \u001b[1m175s\u001b[0m 263ms/step - accuracy: 0.7428 - loss: 1.0786 - val_accuracy: 0.7775 - val_loss: 0.9766\n",
      "Epoch 66/100\n",
      "\u001b[1m665/665\u001b[0m \u001b[32m━━━━━━━━━━━━━━━━━━━━\u001b[0m\u001b[37m\u001b[0m \u001b[1m0s\u001b[0m 213ms/step - accuracy: 0.7518 - loss: 1.0560"
     ]
    },
    {
     "name": "stderr",
     "output_type": "stream",
     "text": [
      "WARNING:absl:You are saving your model as an HDF5 file via `model.save()` or `keras.saving.save_model(model)`. This file format is considered legacy. We recommend using instead the native Keras format, e.g. `model.save('my_model.keras')` or `keras.saving.save_model(model, 'my_model.keras')`. \n"
     ]
    },
    {
     "name": "stdout",
     "output_type": "stream",
     "text": [
      "\u001b[1m665/665\u001b[0m \u001b[32m━━━━━━━━━━━━━━━━━━━━\u001b[0m\u001b[37m\u001b[0m \u001b[1m172s\u001b[0m 259ms/step - accuracy: 0.7517 - loss: 1.0561 - val_accuracy: 0.7704 - val_loss: 0.9655\n",
      "Epoch 67/100\n",
      "\u001b[1m665/665\u001b[0m \u001b[32m━━━━━━━━━━━━━━━━━━━━\u001b[0m\u001b[37m\u001b[0m \u001b[1m170s\u001b[0m 256ms/step - accuracy: 0.7504 - loss: 1.0824 - val_accuracy: 0.6817 - val_loss: 1.4297\n",
      "Epoch 68/100\n",
      "\u001b[1m665/665\u001b[0m \u001b[32m━━━━━━━━━━━━━━━━━━━━\u001b[0m\u001b[37m\u001b[0m \u001b[1m172s\u001b[0m 258ms/step - accuracy: 0.7225 - loss: 1.1686 - val_accuracy: 0.7141 - val_loss: 1.1641\n",
      "Epoch 69/100\n",
      "\u001b[1m665/665\u001b[0m \u001b[32m━━━━━━━━━━━━━━━━━━━━\u001b[0m\u001b[37m\u001b[0m \u001b[1m172s\u001b[0m 259ms/step - accuracy: 0.7568 - loss: 1.0761 - val_accuracy: 0.7789 - val_loss: 0.9950\n",
      "Epoch 70/100\n",
      "\u001b[1m665/665\u001b[0m \u001b[32m━━━━━━━━━━━━━━━━━━━━\u001b[0m\u001b[37m\u001b[0m \u001b[1m171s\u001b[0m 258ms/step - accuracy: 0.7507 - loss: 1.0591 - val_accuracy: 0.7239 - val_loss: 1.1530\n",
      "Epoch 71/100\n",
      "\u001b[1m665/665\u001b[0m \u001b[32m━━━━━━━━━━━━━━━━━━━━\u001b[0m\u001b[37m\u001b[0m \u001b[1m171s\u001b[0m 257ms/step - accuracy: 0.7555 - loss: 1.0551 - val_accuracy: 0.7056 - val_loss: 1.1826\n",
      "Epoch 72/100\n",
      "\u001b[1m665/665\u001b[0m \u001b[32m━━━━━━━━━━━━━━━━━━━━\u001b[0m\u001b[37m\u001b[0m \u001b[1m170s\u001b[0m 255ms/step - accuracy: 0.7211 - loss: 1.1413 - val_accuracy: 0.6718 - val_loss: 1.2952\n",
      "Epoch 73/100\n",
      "\u001b[1m665/665\u001b[0m \u001b[32m━━━━━━━━━━━━━━━━━━━━\u001b[0m\u001b[37m\u001b[0m \u001b[1m172s\u001b[0m 258ms/step - accuracy: 0.7179 - loss: 1.1765 - val_accuracy: 0.7535 - val_loss: 1.0276\n",
      "Epoch 74/100\n",
      "\u001b[1m665/665\u001b[0m \u001b[32m━━━━━━━━━━━━━━━━━━━━\u001b[0m\u001b[37m\u001b[0m \u001b[1m170s\u001b[0m 255ms/step - accuracy: 0.7220 - loss: 1.1407 - val_accuracy: 0.7366 - val_loss: 1.1258\n",
      "Epoch 75/100\n",
      "\u001b[1m665/665\u001b[0m \u001b[32m━━━━━━━━━━━━━━━━━━━━\u001b[0m\u001b[37m\u001b[0m \u001b[1m172s\u001b[0m 258ms/step - accuracy: 0.7184 - loss: 1.1584 - val_accuracy: 0.6437 - val_loss: 1.4033\n",
      "Epoch 76/100\n",
      "\u001b[1m665/665\u001b[0m \u001b[32m━━━━━━━━━━━━━━━━━━━━\u001b[0m\u001b[37m\u001b[0m \u001b[1m164s\u001b[0m 247ms/step - accuracy: 0.7057 - loss: 1.2288 - val_accuracy: 0.7789 - val_loss: 1.0198\n",
      "Epoch 77/100\n",
      "\u001b[1m665/665\u001b[0m \u001b[32m━━━━━━━━━━━━━━━━━━━━\u001b[0m\u001b[37m\u001b[0m \u001b[1m165s\u001b[0m 248ms/step - accuracy: 0.7358 - loss: 1.1147 - val_accuracy: 0.7352 - val_loss: 1.0948\n",
      "Epoch 78/100\n",
      "\u001b[1m665/665\u001b[0m \u001b[32m━━━━━━━━━━━━━━━━━━━━\u001b[0m\u001b[37m\u001b[0m \u001b[1m171s\u001b[0m 257ms/step - accuracy: 0.7158 - loss: 1.1582 - val_accuracy: 0.6761 - val_loss: 1.3572\n",
      "Epoch 79/100\n",
      "\u001b[1m665/665\u001b[0m \u001b[32m━━━━━━━━━━━━━━━━━━━━\u001b[0m\u001b[37m\u001b[0m \u001b[1m169s\u001b[0m 255ms/step - accuracy: 0.7113 - loss: 1.2776 - val_accuracy: 0.7592 - val_loss: 1.0955\n",
      "Epoch 80/100\n",
      "\u001b[1m665/665\u001b[0m \u001b[32m━━━━━━━━━━━━━━━━━━━━\u001b[0m\u001b[37m\u001b[0m \u001b[1m169s\u001b[0m 253ms/step - accuracy: 0.7173 - loss: 1.1625 - val_accuracy: 0.7606 - val_loss: 1.0676\n",
      "Epoch 81/100\n",
      "\u001b[1m665/665\u001b[0m \u001b[32m━━━━━━━━━━━━━━━━━━━━\u001b[0m\u001b[37m\u001b[0m \u001b[1m169s\u001b[0m 254ms/step - accuracy: 0.7267 - loss: 1.1774 - val_accuracy: 0.7634 - val_loss: 1.0322\n",
      "Epoch 82/100\n",
      "\u001b[1m665/665\u001b[0m \u001b[32m━━━━━━━━━━━━━━━━━━━━\u001b[0m\u001b[37m\u001b[0m \u001b[1m169s\u001b[0m 254ms/step - accuracy: 0.7170 - loss: 1.1597 - val_accuracy: 0.6845 - val_loss: 1.2489\n",
      "Epoch 83/100\n",
      "\u001b[1m665/665\u001b[0m \u001b[32m━━━━━━━━━━━━━━━━━━━━\u001b[0m\u001b[37m\u001b[0m \u001b[1m168s\u001b[0m 252ms/step - accuracy: 0.7082 - loss: 1.1927 - val_accuracy: 0.7239 - val_loss: 1.2251\n",
      "Epoch 84/100\n",
      "\u001b[1m665/665\u001b[0m \u001b[32m━━━━━━━━━━━━━━━━━━━━\u001b[0m\u001b[37m\u001b[0m \u001b[1m170s\u001b[0m 255ms/step - accuracy: 0.7299 - loss: 1.1612 - val_accuracy: 0.7352 - val_loss: 1.0662\n",
      "Epoch 85/100\n",
      "\u001b[1m665/665\u001b[0m \u001b[32m━━━━━━━━━━━━━━━━━━━━\u001b[0m\u001b[37m\u001b[0m \u001b[1m174s\u001b[0m 262ms/step - accuracy: 0.7234 - loss: 1.1597 - val_accuracy: 0.7479 - val_loss: 1.0982\n",
      "Epoch 86/100\n",
      "\u001b[1m665/665\u001b[0m \u001b[32m━━━━━━━━━━━━━━━━━━━━\u001b[0m\u001b[37m\u001b[0m \u001b[1m171s\u001b[0m 256ms/step - accuracy: 0.7339 - loss: 1.1450 - val_accuracy: 0.7437 - val_loss: 1.0914\n",
      "Epoch 87/100\n",
      "\u001b[1m665/665\u001b[0m \u001b[32m━━━━━━━━━━━━━━━━━━━━\u001b[0m\u001b[37m\u001b[0m \u001b[1m169s\u001b[0m 254ms/step - accuracy: 0.7470 - loss: 1.0856 - val_accuracy: 0.7211 - val_loss: 1.0582\n",
      "Epoch 88/100\n",
      "\u001b[1m665/665\u001b[0m \u001b[32m━━━━━━━━━━━━━━━━━━━━\u001b[0m\u001b[37m\u001b[0m \u001b[1m169s\u001b[0m 255ms/step - accuracy: 0.7132 - loss: 1.1148 - val_accuracy: 0.7606 - val_loss: 0.9851\n",
      "Epoch 89/100\n",
      "\u001b[1m665/665\u001b[0m \u001b[32m━━━━━━━━━━━━━━━━━━━━\u001b[0m\u001b[37m\u001b[0m \u001b[1m171s\u001b[0m 256ms/step - accuracy: 0.7344 - loss: 1.1018 - val_accuracy: 0.7704 - val_loss: 1.0070\n",
      "Epoch 90/100\n",
      "\u001b[1m665/665\u001b[0m \u001b[32m━━━━━━━━━━━━━━━━━━━━\u001b[0m\u001b[37m\u001b[0m \u001b[1m171s\u001b[0m 257ms/step - accuracy: 0.7572 - loss: 1.0230 - val_accuracy: 0.5915 - val_loss: 1.5180\n",
      "Epoch 91/100\n",
      "\u001b[1m665/665\u001b[0m \u001b[32m━━━━━━━━━━━━━━━━━━━━\u001b[0m\u001b[37m\u001b[0m \u001b[1m172s\u001b[0m 258ms/step - accuracy: 0.7407 - loss: 1.0837 - val_accuracy: 0.7493 - val_loss: 1.0282\n",
      "Epoch 92/100\n",
      "\u001b[1m665/665\u001b[0m \u001b[32m━━━━━━━━━━━━━━━━━━━━\u001b[0m\u001b[37m\u001b[0m \u001b[1m168s\u001b[0m 253ms/step - accuracy: 0.7498 - loss: 1.0794 - val_accuracy: 0.7268 - val_loss: 1.0777\n",
      "Epoch 93/100\n",
      "\u001b[1m665/665\u001b[0m \u001b[32m━━━━━━━━━━━━━━━━━━━━\u001b[0m\u001b[37m\u001b[0m \u001b[1m168s\u001b[0m 253ms/step - accuracy: 0.7461 - loss: 1.0666 - val_accuracy: 0.5197 - val_loss: 1.5949\n",
      "Epoch 94/100\n",
      "\u001b[1m665/665\u001b[0m \u001b[32m━━━━━━━━━━━━━━━━━━━━\u001b[0m\u001b[37m\u001b[0m \u001b[1m169s\u001b[0m 254ms/step - accuracy: 0.6559 - loss: 1.3454 - val_accuracy: 0.7155 - val_loss: 1.2298\n",
      "Epoch 95/100\n",
      "\u001b[1m665/665\u001b[0m \u001b[32m━━━━━━━━━━━━━━━━━━━━\u001b[0m\u001b[37m\u001b[0m \u001b[1m167s\u001b[0m 252ms/step - accuracy: 0.6661 - loss: 1.3394 - val_accuracy: 0.7042 - val_loss: 1.1874\n",
      "Epoch 96/100\n",
      "\u001b[1m665/665\u001b[0m \u001b[32m━━━━━━━━━━━━━━━━━━━━\u001b[0m\u001b[37m\u001b[0m \u001b[1m173s\u001b[0m 260ms/step - accuracy: 0.6935 - loss: 1.2576 - val_accuracy: 0.7225 - val_loss: 1.1577\n",
      "Epoch 97/100\n",
      "\u001b[1m665/665\u001b[0m \u001b[32m━━━━━━━━━━━━━━━━━━━━\u001b[0m\u001b[37m\u001b[0m \u001b[1m175s\u001b[0m 263ms/step - accuracy: 0.7240 - loss: 1.1344 - val_accuracy: 0.7324 - val_loss: 1.0877\n",
      "Epoch 98/100\n",
      "\u001b[1m665/665\u001b[0m \u001b[32m━━━━━━━━━━━━━━━━━━━━\u001b[0m\u001b[37m\u001b[0m \u001b[1m176s\u001b[0m 264ms/step - accuracy: 0.7107 - loss: 1.1956 - val_accuracy: 0.7127 - val_loss: 1.2315\n",
      "Epoch 99/100\n",
      "\u001b[1m665/665\u001b[0m \u001b[32m━━━━━━━━━━━━━━━━━━━━\u001b[0m\u001b[37m\u001b[0m \u001b[1m0s\u001b[0m 208ms/step - accuracy: 0.7279 - loss: 1.1277"
     ]
    },
    {
     "name": "stderr",
     "output_type": "stream",
     "text": [
      "WARNING:absl:You are saving your model as an HDF5 file via `model.save()` or `keras.saving.save_model(model)`. This file format is considered legacy. We recommend using instead the native Keras format, e.g. `model.save('my_model.keras')` or `keras.saving.save_model(model, 'my_model.keras')`. \n"
     ]
    },
    {
     "name": "stdout",
     "output_type": "stream",
     "text": [
      "\u001b[1m665/665\u001b[0m \u001b[32m━━━━━━━━━━━━━━━━━━━━\u001b[0m\u001b[37m\u001b[0m \u001b[1m167s\u001b[0m 252ms/step - accuracy: 0.7279 - loss: 1.1278 - val_accuracy: 0.7901 - val_loss: 0.9378\n",
      "Epoch 100/100\n",
      "\u001b[1m665/665\u001b[0m \u001b[32m━━━━━━━━━━━━━━━━━━━━\u001b[0m\u001b[37m\u001b[0m \u001b[1m168s\u001b[0m 253ms/step - accuracy: 0.7232 - loss: 1.1353 - val_accuracy: 0.6577 - val_loss: 1.2886\n"
     ]
    }
   ],
   "source": [
    "early_stopping = tf.keras.callbacks.EarlyStopping(\n",
    "    monitor='val_loss',\n",
    "    patience=40,\n",
    "    restore_best_weights=True\n",
    ")\n",
    "\n",
    "checkpoint = tf.keras.callbacks.ModelCheckpoint(\n",
    "    'best_model_resnet50.h5',\n",
    "    monitor='val_loss',\n",
    "    save_best_only=True\n",
    ")\n",
    "\n",
    "history = model.fit(\n",
    "    train_gen,\n",
    "    validation_data=val_gen,\n",
    "    epochs=epochs,\n",
    "    callbacks=[early_stopping, checkpoint]\n",
    ")"
   ]
  },
  {
   "cell_type": "code",
   "execution_count": 7,
   "id": "6dfaa936",
   "metadata": {},
   "outputs": [],
   "source": [
    "model.save('final_resnet50_model.keras')"
   ]
  },
  {
   "cell_type": "code",
   "execution_count": null,
   "id": "63584afe",
   "metadata": {},
   "outputs": [],
   "source": []
  }
 ],
 "metadata": {
  "kernelspec": {
   "display_name": "Python [conda env:base] *",
   "language": "python",
   "name": "conda-base-py"
  },
  "language_info": {
   "codemirror_mode": {
    "name": "ipython",
    "version": 3
   },
   "file_extension": ".py",
   "mimetype": "text/x-python",
   "name": "python",
   "nbconvert_exporter": "python",
   "pygments_lexer": "ipython3",
   "version": "3.12.7"
  }
 },
 "nbformat": 4,
 "nbformat_minor": 5
}
