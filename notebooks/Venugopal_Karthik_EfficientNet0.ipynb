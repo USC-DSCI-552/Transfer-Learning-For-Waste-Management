{
 "cells": [
  {
   "cell_type": "markdown",
   "id": "fb9f2c6b",
   "metadata": {},
   "source": [
    "Name: Karthik Venugopal\n",
    "\n",
    "USC ID: 9330529336\n",
    "\n",
    "github username: Karthikvenugopal"
   ]
  },
  {
   "cell_type": "code",
   "execution_count": 5,
   "id": "0defe9f4",
   "metadata": {},
   "outputs": [],
   "source": [
    "import os\n",
    "import glob\n",
    "import shutil\n",
    "\n",
    "import numpy as np\n",
    "import pandas as pd\n",
    "import matplotlib.pyplot as plt\n",
    "\n",
    "import tensorflow as tf\n",
    "from tensorflow.keras.applications import EfficientNetB0\n",
    "from tensorflow.keras.layers import GlobalAveragePooling2D, Dense, Dropout, BatchNormalization\n",
    "from tensorflow.keras.models import Model\n",
    "from tensorflow.keras.optimizers import Adam\n",
    "from tensorflow.keras.preprocessing.image import ImageDataGenerator\n",
    "from tensorflow.keras.regularizers import l2\n",
    "\n",
    "from sklearn.metrics import classification_report"
   ]
  },
  {
   "cell_type": "code",
   "execution_count": null,
   "id": "37e22e6e",
   "metadata": {
    "vscode": {
     "languageId": "markdown"
    }
   },
   "outputs": [],
   "source": [
    "\n",
    "# Create train and test directories if they don't exist\n",
    "os.makedirs(train_dir, exist_ok=True)\n",
    "os.makedirs(test_dir, exist_ok=True)\n",
    "\n",
    "for class_folder in os.listdir(base_dir):\n",
    "    class_path = os.path.join(base_dir, class_folder)\n",
    "    if os.path.isdir(class_path):\n",
    "        images = sorted(glob.glob(os.path.join(class_path, '*')))\n",
    "        split_idx = int(0.8 * len(images))\n",
    "        train_images = images[:split_idx]\n",
    "        test_images = images[split_idx:]\n",
    "\n",
    "        # Create class subfolders in train and test directories\n",
    "        train_class_dir = os.path.join(train_dir, class_folder)\n",
    "        test_class_dir = os.path.join(test_dir, class_folder)\n",
    "        os.makedirs(train_class_dir, exist_ok=True)\n",
    "        os.makedirs(test_class_dir, exist_ok=True)\n",
    "\n",
    "        # Move/copy images\n",
    "        for img_path in train_images:\n",
    "            shutil.copy(img_path, train_class_dir)\n",
    "        for img_path in test_images:\n",
    "            shutil.copy(img_path, test_class_dir)"
   ]
  }
 ],
 "metadata": {
  "kernelspec": {
   "display_name": "Python [conda env:base] *",
   "language": "python",
   "name": "conda-base-py"
  }
 },
 "nbformat": 4,
 "nbformat_minor": 5
}
